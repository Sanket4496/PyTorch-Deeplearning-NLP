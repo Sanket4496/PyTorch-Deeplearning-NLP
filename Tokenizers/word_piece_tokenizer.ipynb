{
 "cells": [
  {
   "cell_type": "code",
   "execution_count": 3,
   "metadata": {},
   "outputs": [],
   "source": [
    "import re\n",
    "from collections import defaultdict\n",
    "\n",
    "# Step 1: Compute pair scores\n",
    "def compute_pair_scores(splits, word_freqs):\n",
    "    letter_freqs = defaultdict(int)\n",
    "    pair_freqs = defaultdict(int)\n",
    "    for word, freq in word_freqs.items():\n",
    "        split = splits[word]\n",
    "        if len(split) == 1:\n",
    "            letter_freqs[split[0]] += freq\n",
    "            continue\n",
    "        for i in range(len(split) - 1):\n",
    "            pair = (split[i], split[i + 1])\n",
    "            letter_freqs[split[i]] += freq\n",
    "            pair_freqs[pair] += freq\n",
    "        letter_freqs[split[-1]] += freq\n",
    "\n",
    "    scores = {\n",
    "        pair: freq / (letter_freqs[pair[0]] * letter_freqs[pair[1]])\n",
    "        for pair, freq in pair_freqs.items()\n",
    "    }\n",
    "    return scores\n",
    "\n",
    "# Step 2: Merge the selected pair in the splits\n",
    "def merge_pair(pair, splits):\n",
    "    for word in splits:\n",
    "        split = splits[word]\n",
    "        i = 0\n",
    "        while i < len(split) - 1:\n",
    "            if split[i] == pair[0] and split[i + 1] == pair[1]:\n",
    "                split = split[:i] + [pair[0] + pair[1]] + split[i + 2:]\n",
    "            else:\n",
    "                i += 1\n",
    "        splits[word] = split\n",
    "    return splits"
   ]
  },
  {
   "cell_type": "code",
   "execution_count": 1,
   "metadata": {},
   "outputs": [],
   "source": [
    "# Token Learner: Learn vocabulary and merge rules\n",
    "def learn_wordpiece(word_freqs, vocab_size):\n",
    "    splits = {word: list(word) + ['</w>'] for word in word_freqs}  # Initialize splits as characters\n",
    "    vocab = set(char for word in splits.values() for char in word)  # Initial vocab (chars)\n",
    "    merge_rules = []  # To store merge rules\n",
    "\n",
    "    while len(vocab) < vocab_size:\n",
    "        pair_scores = compute_pair_scores(splits, word_freqs)\n",
    "        if not pair_scores:\n",
    "            break\n",
    "\n",
    "        best_pair = max(pair_scores, key=pair_scores.get)  # Best pair based on score\n",
    "        splits = merge_pair(best_pair, splits)  # Merge the best pair\n",
    "        vocab.add(''.join(best_pair))  # Add the new token to vocab\n",
    "        merge_rules.append(best_pair)  # Store the merge rule\n",
    "\n",
    "        print(f\"Merged pair: {best_pair}, Score: {pair_scores[best_pair]:.6f}\")\n",
    "\n",
    "    return vocab, merge_rules"
   ]
  },
  {
   "cell_type": "code",
   "execution_count": 2,
   "metadata": {},
   "outputs": [],
   "source": [
    "# Token Segmenter: Use learned vocabulary and rules to segment new words\n",
    "def segment_word(word, merge_rules):\n",
    "    tokens = list(word) + ['</w>']  # Start with characters and end-of-word token\n",
    "    for pair in merge_rules:\n",
    "        i = 0\n",
    "        while i < len(tokens) - 1:\n",
    "            if tokens[i] == pair[0] and tokens[i + 1] == pair[1]:\n",
    "                tokens = tokens[:i] + [pair[0] + pair[1]] + tokens[i + 2:]\n",
    "            else:\n",
    "                i += 1\n",
    "    return tokens"
   ]
  },
  {
   "cell_type": "code",
   "execution_count": 5,
   "metadata": {},
   "outputs": [
    {
     "name": "stdout",
     "output_type": "stream",
     "text": [
      "Merged pair: ('i', 'd'), Score: 0.333333\n",
      "Merged pair: ('l', 'o'), Score: 0.142857\n",
      "Merged pair: ('s', 't'), Score: 0.111111\n",
      "Merged pair: ('lo', 'w'), Score: 0.062500\n",
      "Merged pair: ('w', 'id'), Score: 0.111111\n",
      "Merged pair: ('r', '</w>'), Score: 0.062500\n",
      "Merged pair: ('st', '</w>'), Score: 0.071429\n",
      "Merged pair: ('low', '</w>'), Score: 0.142857\n",
      "Merged pair: ('low', 'e'), Score: 0.058824\n",
      "Merged pair: ('lowe', 'r</w>'), Score: 0.500000\n",
      "Merged pair: ('n', 'e'), Score: 0.066667\n",
      "Merged pair: ('ne', 'w'), Score: 0.166667\n",
      "Merged pair: ('new', 'e'), Score: 0.111111\n",
      "Merged pair: ('wid', 'e'), Score: 0.333333\n",
      "Merged pair: ('newe', 'st</w>'), Score: 0.111111\n",
      "Merged pair: ('wide', 'st</w>'), Score: 0.333333\n",
      "\n",
      "Learned Vocabulary:\n",
      "['</w>', 'd', 'e', 'i', 'id', 'l', 'lo', 'low', 'low</w>', 'lowe', 'lower</w>', 'n', 'ne', 'new', 'newe', 'newest</w>', 'o', 'r', 'r</w>', 's', 'st', 'st</w>', 't', 'w', 'wid', 'wide', 'widest</w>']\n",
      "\n",
      "Learned Merge Rules:\n",
      "[('i', 'd'), ('l', 'o'), ('s', 't'), ('lo', 'w'), ('w', 'id'), ('r', '</w>'), ('st', '</w>'), ('low', '</w>'), ('low', 'e'), ('lowe', 'r</w>'), ('n', 'e'), ('ne', 'w'), ('new', 'e'), ('wid', 'e'), ('newe', 'st</w>'), ('wide', 'st</w>')]\n",
      "\n",
      "Segmented Test Words:\n",
      "lowest -> lowe st</w>\n",
      "newest -> newest</w>\n",
      "widest -> widest</w>\n"
     ]
    }
   ],
   "source": [
    "# Training vocabulary (word frequencies)\n",
    "word_freqs = {'low': 5, 'lower': 2, 'newest': 6, 'widest': 3}\n",
    "\n",
    "# Learn vocabulary and merge rules\n",
    "vocab_size = 30\n",
    "vocab, merge_rules = learn_wordpiece(word_freqs, vocab_size)\n",
    "print(\"\\nLearned Vocabulary:\")\n",
    "print(sorted(vocab))\n",
    "print(\"\\nLearned Merge Rules:\")\n",
    "print(merge_rules)\n",
    "\n",
    "# Segment test words\n",
    "test_words = ['lowest', 'newest', 'widest']\n",
    "print(\"\\nSegmented Test Words:\")\n",
    "for word in test_words:\n",
    "    segmented = segment_word(word, merge_rules)\n",
    "    print(f\"{word} -> {' '.join(segmented)}\")"
   ]
  }
 ],
 "metadata": {
  "kernelspec": {
   "display_name": ".env",
   "language": "python",
   "name": "python3"
  },
  "language_info": {
   "codemirror_mode": {
    "name": "ipython",
    "version": 3
   },
   "file_extension": ".py",
   "mimetype": "text/x-python",
   "name": "python",
   "nbconvert_exporter": "python",
   "pygments_lexer": "ipython3",
   "version": "3.12.3"
  }
 },
 "nbformat": 4,
 "nbformat_minor": 2
}
